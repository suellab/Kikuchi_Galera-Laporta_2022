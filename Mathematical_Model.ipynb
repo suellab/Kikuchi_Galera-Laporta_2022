{
 "cells": [
  {
   "cell_type": "code",
   "execution_count": 1,
   "metadata": {},
   "outputs": [],
   "source": [
    "import numpy as np\n",
    "from scipy.integrate import odeint\n",
    "import matplotlib.pyplot as plt\n",
    "from datetime import datetime"
   ]
  },
  {
   "cell_type": "code",
   "execution_count": 2,
   "metadata": {},
   "outputs": [],
   "source": [
    "dt_string = datetime.now().strftime(\"%m-%d-%Y %H:%M:%S\")"
   ]
  },
  {
   "cell_type": "markdown",
   "metadata": {},
   "source": [
    "## Parameters and Equations"
   ]
  },
  {
   "cell_type": "code",
   "execution_count": 3,
   "metadata": {},
   "outputs": [],
   "source": [
    "np.random.seed(4)\n",
    "\n",
    "ft = 1\n",
    "dt = 0.01\n",
    "\n",
    "wt_gk = 30 \n",
    "yugo_gk = 0\n",
    "F = 5.6 \n",
    "E_m = 8\n",
    "\n",
    "Vk0 = 30\n",
    "b0 = 0.6\n",
    "ge = 1\n",
    "gn = .08\n",
    "Vn = -130\n",
    "\n",
    "# parameters for quinine addition\n",
    "gn_q = 0.005\n",
    "gk_q = 1\n",
    "\n",
    "def f(vne,t):\n",
    "    V, n, E, I = vne\n",
    "    a = germ\n",
    "    b = b0\n",
    "    Vks = Vk0*np.log(E/I)\n",
    "    dVdt = -gk*n**4*(V-Vks) - gn*n**4*(V-Vn)\n",
    "    dndt = a*(1-n)-b*n\n",
    "    dEdt = F*gk*n**4*(V-Vks) - ge*(E-E_m) + F*gn*n**4*(V-Vn)\n",
    "    dIdt = -F*gk*n**4*(V-Vks) - F*gn*n**4*(V-Vn)\n",
    "    return [dVdt, dndt, dEdt, dIdt]\n",
    "\n",
    "# with addition of quinine\n",
    "def f_q(vne,t):\n",
    "    V, n, E, I = vne\n",
    "    a = germ\n",
    "    b = b0\n",
    "    Vks = Vk0*np.log(E/I)\n",
    "    dVdt = -gk_q*n**4*(V-Vks) - gn_q*n**4*(V-Vn)\n",
    "    dndt = a*(1-n)-b*n\n",
    "    dEdt = F*gk_q*n**4*(V-Vks) - ge*(E-E_m) + F*gn_q*n**4*(V-Vn)\n",
    "    dIdt = -F*gk_q*n**4*(V-Vks) - F*gn_q*n**4*(V-Vn)\n",
    "    return [dVdt, dndt, dEdt, dIdt]"
   ]
  },
  {
   "cell_type": "code",
   "execution_count": 4,
   "metadata": {},
   "outputs": [],
   "source": [
    "\n",
    "# parameters for initial intracellular potassium values for each mutant \n",
    "wt_mean = 300\n",
    "yugo_mean = 280\n",
    "ktrc_mean = 275\n",
    "wt_std = 15\n",
    "yugo_std = 35\n",
    "ktrc_std = 15\n",
    "\n",
    "# number of spores in each population\n",
    "ncells = 500\n",
    "\n",
    "# potassium threshold for germination \n",
    "k_threshold = 235 \n",
    "\n",
    "germ_pulse = 3 # minutes of germinant pulse\n",
    "wait_interpulse = 57+60 # minutes of no germinant between pulses\n",
    "init = 60 # minutes of pre-germinant initialization\n",
    "wait_final = 500 # post-pulse time (wait for all cells to germinate) \n",
    "num_pulses = 8\n",
    "max_germ = 3 # maximum germinant concentration\n",
    "\n",
    "# initial membrane potentials \n",
    "V0 = -79\n",
    "V0_ktrc = -81\n",
    "V0_yugo = -80\n",
    "\n"
   ]
  },
  {
   "cell_type": "markdown",
   "metadata": {},
   "source": [
    "## Generate representative membrane potential plots"
   ]
  },
  {
   "cell_type": "code",
   "execution_count": 5,
   "metadata": {},
   "outputs": [],
   "source": [
    "# Initial potassium content for four representative spores, germinating at different germinant pulses\n",
    "wt_mp_rep_traces = []\n",
    "i0_reps = [wt_mean-30, wt_mean, wt_mean+15, wt_mean+30]\n",
    "gk = wt_gk\n",
    "\n",
    "for i0 in i0_reps:\n",
    "    germ = 0 # presence of germinant. germ = 0 when there is no germinant, and max_germ during a pulse\n",
    "    Tmax = init*ft\n",
    "\n",
    "    vne0 = [V0, 0, E_m, i0]\n",
    "    tvec0 = np.arange(0,Tmax,dt)\n",
    "    vne0_out = odeint(f, vne0, tvec0)\n",
    "    current_state = [vne0_out[-1,0], vne0_out[-1,1], vne0_out[-1,2], vne0_out[-1,3]]\n",
    "    tts = tvec0\n",
    "    Its = vne0_out[:,3]\n",
    "    Vts = vne0_out[:,0]\n",
    "    nts = vne0_out[:,1]\n",
    "    Ets = vne0_out[:,2]\n",
    "    time_elapsed = tvec0[-1]\n",
    "\n",
    "    for pulse in range(num_pulses):\n",
    "        if pulse == num_pulses - 1:\n",
    "            wait = wait_final\n",
    "        else:\n",
    "            wait = wait_interpulse\n",
    "        germ = max_germ\n",
    "        Tmax = germ_pulse*ft\n",
    "        vne1 = current_state\n",
    "        tvec1 = np.arange(0,Tmax,dt)\n",
    "        vne1_out = odeint(f, vne1, tvec1)\n",
    "        current_state = [vne1_out[-1,0], vne1_out[-1,1], vne1_out[-1,2], vne1_out[-1,3]]\n",
    "        tts = np.concatenate((tts,tvec1[:]+time_elapsed),axis=0)\n",
    "        time_elapsed=tts[-1]\n",
    "        Its = np.concatenate((Its, vne1_out[:,3]),axis=0)\n",
    "        Vts = np.concatenate((Vts, vne1_out[:,0]),axis=0)\n",
    "        nts = np.concatenate((nts, vne1_out[:,1]),axis=0)\n",
    "        Ets = np.concatenate((Ets, vne1_out[:,2]),axis=0)\n",
    "\n",
    "        germ = 0\n",
    "        Tmax = wait*ft\n",
    "        tvec2 = np.arange(0,Tmax,dt)\n",
    "        vne2 = current_state\n",
    "        vne2_out = odeint(f, vne2, tvec2)\n",
    "        current_state = [vne2_out[-1,0], vne2_out[-1,1], vne2_out[-1,2], vne2_out[-1,3]]\n",
    "        tts = np.concatenate((tts,tvec2+time_elapsed),axis=0)\n",
    "        time_elapsed=tts[-1]\n",
    "        Its = np.concatenate((Its, vne2_out[:,3]),axis=0)\n",
    "        Vts = np.concatenate((Vts, vne2_out[:,0]),axis=0)\n",
    "        nts = np.concatenate((nts, vne2_out[:,1]),axis=0)\n",
    "        Ets = np.concatenate((Ets, vne2_out[:,2]),axis=0)\n",
    "\n",
    "# Generate time traces of each spore's intracellular potassium, until germination\n",
    "    if min(Its)<k_threshold:\n",
    "        for j in range(len(Its)):\n",
    "            if Its[j] < k_threshold:\n",
    "                wt_mp_rep_traces.append(Vts[:j])\n",
    "                break\n"
   ]
  },
  {
   "cell_type": "markdown",
   "metadata": {},
   "source": [
    "### Plot representative membrane potential time traces\n"
   ]
  },
  {
   "cell_type": "code",
   "execution_count": 6,
   "metadata": {},
   "outputs": [
    {
     "data": {
      "image/png": "[encoded data removed]",
      "text/plain": [
       "<Figure size 432x288 with 1 Axes>"
      ]
     },
     "metadata": {
      "needs_background": "light"
     },
     "output_type": "display_data"
    }
   ],
   "source": [
    "plt.plot(tts[:len(wt_mp_rep_traces[3])]/60,wt_mp_rep_traces[3], c= '#bdb435',label='wt 4',linewidth=3)\n",
    "plt.plot(tts[:len(wt_mp_rep_traces[2])]/60,wt_mp_rep_traces[2], c= '#bb0035',label='wt 3',linewidth=3)\n",
    "plt.plot(tts[:len(wt_mp_rep_traces[1])]/60,wt_mp_rep_traces[1], c= '#880088',label='wt 2',linewidth=3)\n",
    "plt.plot(tts[:len(wt_mp_rep_traces[0])]/60,wt_mp_rep_traces[0], c= '#000000',label='wt 1',linewidth=3)\n",
    "\n",
    "plt.xlabel('hours')\n",
    "plt.ylabel('membrane potential (mV)')\n",
    "plt.ylim(-78, -100)\n",
    "plt.xlim(-.5, 10)\n",
    "plt.legend()\n",
    "for i in range(0, num_pulses):\n",
    "    plt.axvline((i*(wait_interpulse+germ_pulse) + init)/60, c='black', alpha=0.3)\n",
    "#plt.savefig(dt_string+'wt_mp_trace_representative.pdf')\n",
    "plt.show()"
   ]
  },
  {
   "cell_type": "markdown",
   "metadata": {},
   "source": [
    "## Calculate membrane potential time traces for a population of cells"
   ]
  },
  {
   "cell_type": "markdown",
   "metadata": {},
   "source": [
    "### Determine initial potassium levels for each spore"
   ]
  },
  {
   "cell_type": "code",
   "execution_count": 7,
   "metadata": {},
   "outputs": [],
   "source": [
    "np.random.seed(4)\n",
    "k_wt = np.random.normal(wt_mean, wt_std, ncells)\n",
    "k_yugo = np.random.normal(yugo_mean,yugo_std,ncells)\n",
    "k_ktrc = np.random.normal(ktrc_mean, ktrc_std, ncells)"
   ]
  },
  {
   "cell_type": "markdown",
   "metadata": {},
   "source": [
    "### Plot distributions of initial potassium levels"
   ]
  },
  {
   "cell_type": "code",
   "execution_count": 8,
   "metadata": {},
   "outputs": [
    {
     "data": {
      "image/png": "[encoded data removed]",
      "text/plain": [
       "<Figure size 432x288 with 1 Axes>"
      ]
     },
     "metadata": {
      "needs_background": "light"
     },
     "output_type": "display_data"
    }
   ],
   "source": [
    "plt.hist(k_wt, label=\"wt\",bins=np.arange(200,500,10),alpha = 0.5)\n",
    "plt.hist(k_yugo, label=\"yugo\",bins=np.arange(200,500,10),alpha = 0.5)\n",
    "plt.hist(k_ktrc, label='ktrc',bins=np.arange(200,500,10), alpha = 0.5)\n",
    "plt.xlabel('starting intracellular K')\n",
    "plt.ylabel('number of spores')\n",
    "plt.legend()\n",
    "#plt.savefig(dt_string+' starting_k_hist.png')\n",
    "plt.title('Initial potassium distributions')\n",
    "plt.show()"
   ]
  },
  {
   "cell_type": "code",
   "execution_count": 9,
   "metadata": {},
   "outputs": [],
   "source": [
    "# if no germination, set germination time to this maximum number\n",
    "max_time = (num_pulses+1)*120 + 1000 "
   ]
  },
  {
   "cell_type": "markdown",
   "metadata": {},
   "source": [
    "#### Keep track of membrane potential of each spore during simulation"
   ]
  },
  {
   "cell_type": "code",
   "execution_count": 10,
   "metadata": {},
   "outputs": [],
   "source": [
    "# end value of membrane potential\n",
    "wt_mp = []\n",
    "ktrc_mp = []\n",
    "yugo_mp = []\n",
    "\n",
    "# time traces\n",
    "wt_mp_traces = []\n",
    "ktrc_mp_traces = []\n",
    "yugo_mp_traces = []"
   ]
  },
  {
   "cell_type": "markdown",
   "metadata": {},
   "source": [
    "### Wild-type spores"
   ]
  },
  {
   "cell_type": "code",
   "execution_count": 11,
   "metadata": {},
   "outputs": [],
   "source": [
    "gk = wt_gk\n",
    "\n",
    "wt_germ = [max_time]*ncells\n",
    "yugo_germ = [max_time]*ncells\n",
    "ktrc_germ = [max_time]*ncells\n",
    "ktrc_rescue_germ = [max_time]*ncells\n",
    "count=0\n",
    "for index in range(ncells):\n",
    "    i0 = k_wt[index]\n",
    "    germ = 0\n",
    "    Tmax = init*ft\n",
    "    vne0 = [V0, 0, E_m, i0]\n",
    "    tvec0 = np.arange(0,Tmax,dt)\n",
    "    vne0_out = odeint(f, vne0, tvec0)\n",
    "    current_state = [vne0_out[-1,0], vne0_out[-1,1], vne0_out[-1,2], vne0_out[-1,3]]\n",
    "    tts = tvec0\n",
    "    Its = vne0_out[:,3]\n",
    "    Vts = vne0_out[:,0]\n",
    "    nts = vne0_out[:,1]\n",
    "    Ets = vne0_out[:,2]\n",
    "    time_elapsed = tvec0[-1]\n",
    "\n",
    "    for pulse in range(num_pulses):\n",
    "        if pulse == num_pulses - 1:\n",
    "            wait = wait_final\n",
    "        else:\n",
    "            wait = wait_interpulse\n",
    "        germ = max_germ\n",
    "        Tmax = germ_pulse*ft\n",
    "        vne1 = current_state\n",
    "        tvec1 = np.arange(0,Tmax,dt)\n",
    "        vne1_out = odeint(f, vne1, tvec1)\n",
    "        current_state = [vne1_out[-1,0], vne1_out[-1,1], vne1_out[-1,2], vne1_out[-1,3]]\n",
    "        tts = np.concatenate((tts,tvec1[:]+time_elapsed),axis=0)\n",
    "        time_elapsed=tts[-1] \n",
    "        Its = np.concatenate((Its, vne1_out[:,3]),axis=0)\n",
    "        Vts = np.concatenate((Vts, vne1_out[:,0]),axis=0)\n",
    "        nts = np.concatenate((nts, vne1_out[:,1]),axis=0)\n",
    "        Ets = np.concatenate((Ets, vne1_out[:,2]),axis=0)\n",
    "\n",
    "        germ = 0\n",
    "        Tmax = wait*ft\n",
    "        tvec2 = np.arange(0,Tmax,dt)\n",
    "        vne2 = current_state\n",
    "        vne2_out = odeint(f, vne2, tvec2)\n",
    "        current_state = [vne2_out[-1,0], vne2_out[-1,1], vne2_out[-1,2], vne2_out[-1,3]]\n",
    "        tts = np.concatenate((tts,tvec2+time_elapsed),axis=0)\n",
    "        time_elapsed=tts[-1] \n",
    "        Its = np.concatenate((Its, vne2_out[:,3]),axis=0)\n",
    "        Vts = np.concatenate((Vts, vne2_out[:,0]),axis=0)\n",
    "        nts = np.concatenate((nts, vne2_out[:,1]),axis=0)\n",
    "        Ets = np.concatenate((Ets, vne2_out[:,2]),axis=0)\n",
    "\n",
    "    if min(Its)<k_threshold:\n",
    "        for j in range(len(Its)):\n",
    "            if Its[j] < k_threshold:\n",
    "                wt_germ[index] = tts[j]\n",
    "                wt_mp.append(Vts[j])\n",
    "                wt_mp_traces.append(Vts[:j+1])\n",
    "                break\n"
   ]
  },
  {
   "cell_type": "markdown",
   "metadata": {},
   "source": [
    "### dYugO spores"
   ]
  },
  {
   "cell_type": "code",
   "execution_count": 12,
   "metadata": {},
   "outputs": [],
   "source": [
    "gk = yugo_gk # no potassium channel \n",
    "for index in range(ncells):\n",
    "    i0 = k_yugo[index]\n",
    "    germ = 0\n",
    "    Tmax = init*ft\n",
    "    vne0 = [V0_yugo, 0, E_m, i0]\n",
    "    tvec0 = np.arange(0,Tmax,dt)\n",
    "    vne0_out = odeint(f, vne0, tvec0)\n",
    "    current_state = [vne0_out[-1,0], vne0_out[-1,1], vne0_out[-1,2], vne0_out[-1,3]]\n",
    "    tts = tvec0\n",
    "    Its = vne0_out[:,3]\n",
    "    Vts = vne0_out[:,0]\n",
    "    nts = vne0_out[:,1]\n",
    "    Ets = vne0_out[:,2]\n",
    "    time_elapsed = tvec0[-1]\n",
    "\n",
    "    for pulse in range(num_pulses):\n",
    "        if pulse == num_pulses - 1:\n",
    "            wait = wait_final\n",
    "        else:\n",
    "            wait = wait_interpulse\n",
    "        germ = max_germ\n",
    "        Tmax = germ_pulse*ft\n",
    "        vne1 = current_state\n",
    "        tvec1 = np.arange(0,Tmax,dt)\n",
    "        vne1_out = odeint(f, vne1, tvec1)\n",
    "        current_state = [vne1_out[-1,0], vne1_out[-1,1], vne1_out[-1,2], vne1_out[-1,3]]\n",
    "        tts = np.concatenate((tts,tvec1[:]+time_elapsed),axis=0)\n",
    "        time_elapsed=tts[-1]\n",
    "        Its = np.concatenate((Its, vne1_out[:,3]),axis=0)\n",
    "        Vts = np.concatenate((Vts, vne1_out[:,0]),axis=0)\n",
    "        nts = np.concatenate((nts, vne1_out[:,1]),axis=0)\n",
    "        Ets = np.concatenate((Ets, vne1_out[:,2]),axis=0)\n",
    "\n",
    "        germ = 0\n",
    "        Tmax = wait*ft\n",
    "        tvec2 = np.arange(0,Tmax,dt)\n",
    "        vne2 = current_state\n",
    "        vne2_out = odeint(f, vne2, tvec2)\n",
    "        current_state = [vne2_out[-1,0], vne2_out[-1,1], vne2_out[-1,2], vne2_out[-1,3]]\n",
    "        tts = np.concatenate((tts,tvec2+time_elapsed),axis=0)\n",
    "        time_elapsed=tts[-1] \n",
    "        Its = np.concatenate((Its, vne2_out[:,3]),axis=0)\n",
    "        Vts = np.concatenate((Vts, vne2_out[:,0]),axis=0)\n",
    "        nts = np.concatenate((nts, vne2_out[:,1]),axis=0)\n",
    "        Ets = np.concatenate((Ets, vne2_out[:,2]),axis=0)\n",
    "    \n",
    "    if min(Its)<k_threshold:\n",
    "        for j in range(len(Its)):\n",
    "            if Its[j] < k_threshold:\n",
    "                yugo_germ[index] = tts[j]\n",
    "                yugo_mp.append(Vts[j])\n",
    "                yugo_mp_traces.append(Vts[:j+1]) \n",
    "                break                           \n",
    "    else: \n",
    "        yugo_germ[index] = max_time\n",
    "        yugo_mp.append(Vts[-1])\n",
    "        yugo_mp_traces.append(Vts)\n",
    "    "
   ]
  },
  {
   "cell_type": "markdown",
   "metadata": {},
   "source": [
    "### dKtrC spores"
   ]
  },
  {
   "cell_type": "code",
   "execution_count": 13,
   "metadata": {},
   "outputs": [],
   "source": [
    "gk = wt_gk\n",
    "for index in range(ncells):\n",
    "    i0 = k_ktrc[index]\n",
    "    germ = 0\n",
    "    Tmax = init*ft\n",
    "    vne0 = [V0_ktrc, 0, E_m, i0]\n",
    "    tvec0 = np.arange(0,Tmax,dt)\n",
    "    vne0_out = odeint(f, vne0, tvec0)\n",
    "    current_state = [vne0_out[-1,0], vne0_out[-1,1], vne0_out[-1,2], vne0_out[-1,3]]\n",
    "    tts = tvec0\n",
    "    Its = vne0_out[:,3]\n",
    "    Vts = vne0_out[:,0]\n",
    "    nts = vne0_out[:,1]\n",
    "    Ets = vne0_out[:,2]\n",
    "    time_elapsed = tvec0[-1]\n",
    "\n",
    "    for pulse in range(num_pulses):\n",
    "        if pulse == num_pulses - 1:\n",
    "            wait = wait_final\n",
    "        else:\n",
    "            wait = wait_interpulse\n",
    "        germ = max_germ\n",
    "        Tmax = germ_pulse*ft\n",
    "        vne1 = current_state\n",
    "        tvec1 = np.arange(0,Tmax,dt)\n",
    "        vne1_out = odeint(f, vne1, tvec1)\n",
    "        current_state = [vne1_out[-1,0], vne1_out[-1,1], vne1_out[-1,2], vne1_out[-1,3]]\n",
    "        tts = np.concatenate((tts,tvec1[:]+time_elapsed),axis=0)\n",
    "        time_elapsed=tts[-1]\n",
    "        Its = np.concatenate((Its, vne1_out[:,3]),axis=0)\n",
    "        Vts = np.concatenate((Vts, vne1_out[:,0]),axis=0)\n",
    "        nts = np.concatenate((nts, vne1_out[:,1]),axis=0)\n",
    "        Ets = np.concatenate((Ets, vne1_out[:,2]),axis=0)\n",
    "\n",
    "        germ = 0\n",
    "        Tmax = wait*ft\n",
    "        tvec2 = np.arange(0,Tmax,dt)\n",
    "        vne2 = current_state\n",
    "        vne2_out = odeint(f, vne2, tvec2)\n",
    "        current_state = [vne2_out[-1,0], vne2_out[-1,1], vne2_out[-1,2], vne2_out[-1,3]]\n",
    "        tts = np.concatenate((tts,tvec2+time_elapsed),axis=0)\n",
    "        time_elapsed=tts[-1]\n",
    "        Its = np.concatenate((Its, vne2_out[:,3]),axis=0)\n",
    "        Vts = np.concatenate((Vts, vne2_out[:,0]),axis=0)\n",
    "        nts = np.concatenate((nts, vne2_out[:,1]),axis=0)\n",
    "        Ets = np.concatenate((Ets, vne2_out[:,2]),axis=0)\n",
    "    \n",
    "    if min(Its)<k_threshold:\n",
    "        for j in range(len(Its)):\n",
    "            if Its[j] < k_threshold:\n",
    "                ktrc_germ[index] = tts[j]\n",
    "                ktrc_mp.append(Vts[j])\n",
    "                ktrc_mp_traces.append(Vts[:j+1])\n",
    "                break\n"
   ]
  },
  {
   "cell_type": "markdown",
   "metadata": {},
   "source": [
    "### Get cumulative number of spores that have germinated, over time"
   ]
  },
  {
   "cell_type": "code",
   "execution_count": 14,
   "metadata": {},
   "outputs": [],
   "source": [
    "wt_c = []\n",
    "yugo_c = []\n",
    "ktrc_c = []\n",
    "\n",
    "final_wt = np.asarray(wt_germ)\n",
    "final_ktrc = np.asarray(ktrc_germ)\n",
    "final_yugo = np.asarray(yugo_germ)\n",
    "\n",
    "time_range = np.asarray(range(0, (wait_interpulse+germ_pulse)*num_pulses+140))\n",
    "\n",
    "for minute in time_range:\n",
    "    wt_c.append((final_wt<minute).sum())\n",
    "    yugo_c.append((final_yugo<minute).sum())\n",
    "    ktrc_c.append((final_ktrc<minute).sum())"
   ]
  },
  {
   "cell_type": "markdown",
   "metadata": {},
   "source": [
    "#### Plot fraction of dormant spores over time"
   ]
  },
  {
   "cell_type": "code",
   "execution_count": 15,
   "metadata": {},
   "outputs": [
    {
     "data": {
      "image/png": "[encoded data removed]",
      "text/plain": [
       "<Figure size 432x288 with 1 Axes>"
      ]
     },
     "metadata": {
      "needs_background": "light"
     },
     "output_type": "display_data"
    }
   ],
   "source": [
    "plt.plot(time_range/60, 1-np.asarray(wt_c)/len(final_wt), label='wt', c = 'blue')\n",
    "plt.plot(time_range/60, 1-np.asarray(yugo_c)/len(final_yugo), label='yugo', c = 'red')\n",
    "plt.plot(time_range/60, 1-np.asarray(ktrc_c)/len(final_ktrc), label='ktrc', c = 'green')\n",
    "for i in range(0, num_pulses):\n",
    "    plt.axvline((i*(wait_interpulse+germ_pulse) + init)/60, c='black', alpha=0.3)\n",
    "plt.xlabel('time (hours)')\n",
    "plt.ylabel('fraction of dormant spores')\n",
    "plt.legend()\n",
    "plt.xticks(np.arange(0,20, 2))\n",
    "#plt.savefig(dt_string+'wt_and_ktrc.eps')\n",
    "plt.show()"
   ]
  },
  {
   "cell_type": "markdown",
   "metadata": {},
   "source": [
    "### Model addition of quinine to wild-type spores"
   ]
  },
  {
   "cell_type": "code",
   "execution_count": 16,
   "metadata": {},
   "outputs": [],
   "source": [
    "quinine_mp_traces = []\n",
    "wt_q_germ = [max_time]*ncells\n",
    "for index in range(ncells):\n",
    "    i0 = k_wt[index]\n",
    "    germ = 0\n",
    "    Tmax = init*ft\n",
    "    vne0 = [V0, 0, E_m, i0]\n",
    "    tvec0 = np.arange(0,Tmax,dt)\n",
    "    vne0_out = odeint(f_q, vne0, tvec0)\n",
    "    current_state = [vne0_out[-1,0], vne0_out[-1,1], vne0_out[-1,2], vne0_out[-1,3]]\n",
    "    tts = tvec0\n",
    "    Its = vne0_out[:,3]\n",
    "    Vts = vne0_out[:,0]\n",
    "    nts = vne0_out[:,1]\n",
    "    Ets = vne0_out[:,2]\n",
    "    time_elapsed = tvec0[-1]\n",
    "\n",
    "    for pulse in range(num_pulses):\n",
    "        if pulse == num_pulses - 1:\n",
    "            wait = wait_final\n",
    "        else:\n",
    "            wait = wait_interpulse\n",
    "        germ = max_germ\n",
    "        Tmax = germ_pulse*ft\n",
    "        vne1 = current_state\n",
    "        tvec1 = np.arange(0,Tmax,dt)\n",
    "        vne1_out = odeint(f_q, vne1, tvec1)\n",
    "        current_state = [vne1_out[-1,0], vne1_out[-1,1], vne1_out[-1,2], vne1_out[-1,3]]\n",
    "        tts = np.concatenate((tts,tvec1[:]+time_elapsed),axis=0)\n",
    "        time_elapsed=tts[-1] \n",
    "        Its = np.concatenate((Its, vne1_out[:,3]),axis=0)\n",
    "        Vts = np.concatenate((Vts, vne1_out[:,0]),axis=0)\n",
    "        nts = np.concatenate((nts, vne1_out[:,1]),axis=0)\n",
    "        Ets = np.concatenate((Ets, vne1_out[:,2]),axis=0)\n",
    "\n",
    "        germ = 0\n",
    "        Tmax = wait*ft\n",
    "        tvec2 = np.arange(0,Tmax,dt)\n",
    "        vne2 = current_state\n",
    "        vne2_out = odeint(f_q, vne2, tvec2)\n",
    "        current_state = [vne2_out[-1,0], vne2_out[-1,1], vne2_out[-1,2], vne2_out[-1,3]]\n",
    "        tts = np.concatenate((tts,tvec2+time_elapsed),axis=0)\n",
    "        time_elapsed=tts[-1]\n",
    "        Its = np.concatenate((Its, vne2_out[:,3]),axis=0)\n",
    "        Vts = np.concatenate((Vts, vne2_out[:,0]),axis=0)\n",
    "        nts = np.concatenate((nts, vne2_out[:,1]),axis=0)\n",
    "        Ets = np.concatenate((Ets, vne2_out[:,2]),axis=0)\n",
    "\n",
    "    if min(Its)<k_threshold:\n",
    "        for j in range(len(Its)):\n",
    "            if Its[j] < k_threshold:\n",
    "                wt_q_germ[index] = tts[j]\n",
    "                quinine_mp_traces.append(Vts[:j+1])\n",
    "                break"
   ]
  },
  {
   "cell_type": "markdown",
   "metadata": {},
   "source": [
    "#### Get cumulative number of spores that have germinated over time"
   ]
  },
  {
   "cell_type": "code",
   "execution_count": 17,
   "metadata": {},
   "outputs": [],
   "source": [
    "wt_q_c = []\n",
    "final_wt_q = np.asarray(wt_q_germ)\n",
    "for minute in time_range:\n",
    "    wt_q_c.append((final_wt_q<minute).sum())"
   ]
  },
  {
   "cell_type": "markdown",
   "metadata": {},
   "source": [
    "#### Plot fraction of dormant spores over time"
   ]
  },
  {
   "cell_type": "code",
   "execution_count": 18,
   "metadata": {},
   "outputs": [
    {
     "data": {
      "image/png": "[encoded data removed]",
      "text/plain": [
       "<Figure size 432x288 with 1 Axes>"
      ]
     },
     "metadata": {
      "needs_background": "light"
     },
     "output_type": "display_data"
    }
   ],
   "source": [
    "plt.plot(time_range/60, 1-np.asarray(wt_c)/len(final_wt), label='wt', c = 'blue')\n",
    "plt.plot(time_range/60, 1-np.asarray(wt_q_c)/len(final_wt_q), label='wt + quinine', c = 'purple')\n",
    "for i in range(0, num_pulses):\n",
    "    plt.axvline((i*(wait_interpulse+germ_pulse) + init)/60, c='black', alpha=0.3)\n",
    "plt.xlabel('time (hours)')\n",
    "plt.ylabel('fraction of dormant spores')\n",
    "plt.legend()\n",
    "plt.xticks(np.arange(0,20, 2))\n",
    "#plt.savefig(dt_string+'wt_and_ktrc.eps')\n",
    "plt.show()"
   ]
  },
  {
   "cell_type": "markdown",
   "metadata": {},
   "source": [
    "## Save results"
   ]
  },
  {
   "cell_type": "code",
   "execution_count": 19,
   "metadata": {},
   "outputs": [],
   "source": [
    "# # Representative membrane potential time traces\n",
    "# np.savetxt(dt_string+' wt_pulse1_rep.csv', wt_mp_rep_traces[0])\n",
    "# np.savetxt(dt_string+' wt_pulse2_rep.csv', wt_mp_rep_traces[1])\n",
    "# np.savetxt(dt_string+' wt_pulse3_rep.csv', wt_mp_rep_traces[2])\n",
    "# np.savetxt(dt_string+' wt_pulse4_rep.csv', wt_mp_rep_traces[3])\n",
    "\n",
    "# # Initial potassium concentrations for each population\n",
    "# np.savetxt(dt_string+' ktrc_initial_k.csv', k_ktrc)\n",
    "# np.savetxt(dt_string+' wt_initial_k.csv', k_wt)\n",
    "# np.savetxt(dt_string+' yugo_initial_k.csv', k_yugo)\n",
    "\n",
    "\n",
    "# # Germination times \n",
    "# np.savetxt(dt_string+' wt_germ_times.csv', final_wt)\n",
    "# np.savetxt(dt_string+' ktrc_germ_times.csv', final_ktrc)\n",
    "# np.savetxt(dt_string+' yugo_germ_times.csv', final_yugo)\n",
    "# np.savetxt(dt_string+' wt_quinine_germ_times.csv', final_wt_q)\n",
    "\n",
    "# # representative membrane potential traces\n",
    "# np.savetxt(dt_string+' wt_mp_trace_representative.csv', wt_mean_Vts)\n",
    "# np.savetxt(dt_string+' yugo_mp_trace_representative.csv', yugo_mean_Vts)\n",
    "# np.savetxt(dt_string+' ktrc_mp_trace_representative.csv', ktrc_mean_Vts)\n",
    "\n",
    "\n",
    "# # population membrane potential traces (note: time traces are different lengths)\n",
    "# # WT membrane potential traces\n",
    "# np.savetxt(dt_string+' wt_mp_traces.csv', wt_mp_traces)\n",
    "\n",
    "# # dyugo membrane potential traces\n",
    "# np.savetxt(dt_string+' yugo_mp_traces.csv', yugo_mp_traces)\n",
    "\n",
    "# # dktrc membrane potential traces\n",
    "# np.savetxt(dt_string+' ktrc_mp_traces.csv', ktrc_mp_traces)"
   ]
  },
  {
   "cell_type": "markdown",
   "metadata": {},
   "source": [
    "## Load germination times and get cumulative number of germinated spores"
   ]
  },
  {
   "cell_type": "code",
   "execution_count": 20,
   "metadata": {},
   "outputs": [],
   "source": [
    "\n",
    "wt_germ = np.loadtxt('04-07-2021 22:06:50 wt_germ_times.csv')\n",
    "yugo_germ = np.loadtxt('04-07-2021 22:06:50 yugo_germ_times.csv')\n",
    "ktrc_germ = np.loadtxt('04-07-2021 22:06:50 ktrc_germ_times.csv')\n",
    "q_germ = np.loadtxt('04-07-2021 22:06:50 wt_quinine_germ_times.csv')"
   ]
  },
  {
   "cell_type": "code",
   "execution_count": 21,
   "metadata": {},
   "outputs": [],
   "source": [
    "num_pulses = 8\n",
    "wt_c = []\n",
    "yugo_c = []\n",
    "ktrc_c = []\n",
    "q_c = []\n",
    "\n",
    "final_wt = np.asarray(wt_germ)\n",
    "final_yugo = np.asarray(yugo_germ)\n",
    "final_ktrc = np.asarray(ktrc_germ)\n",
    "final_q = np.asarray(q_germ)\n",
    "\n",
    "final_wt = final_wt[final_wt != 0]\n",
    "final_ktrc = final_ktrc[final_ktrc != 0]\n",
    "final_yugo = final_yugo[final_yugo != 0]\n",
    "final_q = final_q[final_q != 0]\n",
    "\n",
    "time_range = np.asarray(range(0, 120*num_pulses+20+120))\n",
    "\n",
    "for minute in time_range:\n",
    "    wt_c.append((final_wt<minute).sum())\n",
    "    yugo_c.append((final_yugo<minute).sum())\n",
    "    ktrc_c.append((final_ktrc<minute).sum())\n",
    "    q_c.append((final_q<minute).sum())"
   ]
  },
  {
   "cell_type": "code",
   "execution_count": null,
   "metadata": {},
   "outputs": [],
   "source": []
  }
 ],
 "metadata": {
  "kernelspec": {
   "display_name": "Python 3",
   "language": "python",
   "name": "python3"
  },
  "language_info": {
   "codemirror_mode": {
    "name": "ipython",
    "version": 3
   },
   "file_extension": ".py",
   "mimetype": "text/x-python",
   "name": "python",
   "nbconvert_exporter": "python",
   "pygments_lexer": "ipython3",
   "version": "3.8.5"
  },
  "toc": {
   "base_numbering": 1,
   "nav_menu": {},
   "number_sections": true,
   "sideBar": true,
   "skip_h1_title": false,
   "title_cell": "Table of Contents",
   "title_sidebar": "Contents",
   "toc_cell": false,
   "toc_position": {},
   "toc_section_display": true,
   "toc_window_display": false
  }
 },
 "nbformat": 4,
 "nbformat_minor": 2
}
