{
 "cells": [
  {
   "cell_type": "markdown",
   "metadata": {},
   "source": [
    "# Setting Up\n",
    "- Set your working directory where the ImageJ Results file CSVs are stored in `dir`. Here we assume that they are in a subfolder named `data`."
   ]
  },
  {
   "cell_type": "code",
   "execution_count": 12,
   "metadata": {},
   "outputs": [],
   "source": [
    "import os\n",
    "cwd = os. getcwd()\n",
    "dir = f'{cwd}/data'"
   ]
  },
  {
   "cell_type": "markdown",
   "metadata": {},
   "source": [
    "# Functions"
   ]
  },
  {
   "cell_type": "code",
   "execution_count": 4,
   "metadata": {},
   "outputs": [],
   "source": [
    "%matplotlib inline\n",
    "import  pandas as pd, numpy as np\n",
    "import matplotlib.pyplot as plt\n",
    "import matplotlib\n",
    "import pylab as pl\n",
    "\n",
    "plt.style.use('default')\n",
    "plt.rcParams['font.size'] = 10 \n",
    "plt.rcParams['axes.linewidth'] = 1.6\n",
    "plt.rcParams[\"font.family\"] = \"Arial\"\n",
    "\n",
    "def readMultiMeasureData(path):\n",
    "    \"\"\"function that reads in ImageJ Multiple Measure data from a folder and returns a Pandas dataframe. \"\"\"\n",
    "    df = pd.read_csv(dir+path)\n",
    "    df = df.drop(df.columns[0],1)\n",
    "    df.columns = list(range(1,len(df.columns)+1))\n",
    "    return df\n",
    "\n",
    "def subtractBackground(df,bg):\n",
    "    for i in df.columns:\n",
    "        df[i] = df[i] - bg.mean(axis=1) \n",
    "    return df\n",
    "\n",
    "def plotTraces(df,yaxis='Intensity [a.u.]'):\n",
    "    \"\"\"helper function to quickly visualize individual spore timetraces\"\"\"\n",
    "    vs = np.random.randn(len(df.columns))\n",
    "    normal = matplotlib.colors.Normalize(vs.min(), vs.max())\n",
    "    colors = pl.cm.jet(normal(vs))\n",
    "    \n",
    "    ax = df.plot(lw=1.5,color=colors,alpha=0.1)\n",
    "    ax.legend(loc='upper right')\n",
    "    ax.legend_.remove()\n",
    "    ax.set_xlabel('Time (min)')\n",
    "    ax.set_ylabel(yaxis)\n",
    "\n",
    "def getgermtime(df,germthresh=0,dormthresh=1500,dormassign=500):\n",
    "    \"\"\"function that returns the timepoint when the phase contrast timetrace first drops below a certain threshold (germthresh, default zero).\n",
    "    It also assigns an arbitrarily large number (dormassign, default 500), for spores that stay dormant (do not darken beyond a certain threshold, dormthresh, default 1500). \"\"\"\n",
    "    \n",
    "    idx = []\n",
    "    for trace in df.columns:\n",
    "        df2 =df.loc[:,trace]\n",
    "        if df2.min()>dormthresh:\n",
    "                idx.append(dormassign)\n",
    "        else:\n",
    "            idx.append((df2.values < germthresh).argmax())\n",
    "    return idx\n",
    "\n",
    "def plotCDF(df,label='_nolegend_',color='k',length=289,interval=1):\n",
    "    \"\"\"function that plots the cumulative density function (CDF) of a given dataframe. \"\"\"\n",
    "    bins = np.arange(0,length-1,interval)\n",
    "    counts, bin_edges = np.histogram(df, bins=bins, range=[0,length])\n",
    "    cdf = np.cumsum(counts)\n",
    "    plt.plot(bin_edges[1:], cdf/len(df),alpha=1,label=label,color=color,lw=2.5)\n",
    "    \n",
    "def getCDF(df,length=289,interval=1):\n",
    "    \"\"\"function that returns the cumulative density function (CDF) of a given dataframe. \"\"\"\n",
    "    bins = np.arange(0,length,interval)\n",
    "    counts, bin_edges = np.histogram(df, bins=bins, range=[0,length])\n",
    "    cdf = np.cumsum(counts)\n",
    "    return bin_edges[1:], cdf/len(df)\n",
    "\n",
    "def getAvgCDF(germtimelist,length=289,interval=1):\n",
    "    \"\"\"function that returns the average CDF from several experiments. \"\"\"\n",
    "    cdflist = [getCDF(germtime,length,interval)[1] for germtime in germtimelist]\n",
    "    avgcdf = np.mean(cdflist,axis=0)\n",
    "    return avgcdf\n",
    "\n",
    "def getStdCDF(germtimelist,length=289,interval=1):\n",
    "    \"\"\"function that returns the standard deviation of CDFs from several experiments. \"\"\"\n",
    "    cdflist = [getCDF(germtime,length,interval)[1] for germtime in germtimelist]\n",
    "    stdcdf = np.std(cdflist,axis=0)\n",
    "    return stdcdf\n",
    "\n",
    "def plotAvgStdCDF(germtimelist,color,length=289,interval=1,label='_nolegend_'):\n",
    "    \"\"\"function that plots the average and standard deviation of CDFs from several experiments. \"\"\"\n",
    "    avgcdf = getAvgCDF(germtimelist,length)\n",
    "    stdcdf = getStdCDF(germtimelist,length)\n",
    "    binedges = np.arange(0,length-1,interval)\n",
    "    plt.plot(binedges,1-avgcdf,alpha=0.7,label=label,color=color,lw=2)\n",
    "    plt.fill_between(binedges,1-avgcdf+stdcdf,1-avgcdf-stdcdf,alpha=0.1,color=color)\n",
    "    "
   ]
  },
  {
   "cell_type": "markdown",
   "metadata": {},
   "source": [
    "# Read in phase contrast timetrace CSVs and calculate germination time"
   ]
  },
  {
   "cell_type": "markdown",
   "metadata": {},
   "source": [
    "- Read in imageJ Results files using `readMultiMeasureData`\n",
    "- Subtract background intensity using `subtractBackground`\n",
    "- Calculate germination time (\"germtime\") from phase contrast traces using `getgermtime`\n",
    "- Save germtime to CSV files"
   ]
  },
  {
   "cell_type": "markdown",
   "metadata": {},
   "source": [
    "- The code below assumes ImageJ data for 2 experiments (`movie_1` and `movie_2`), each with a single-cell phase contrast timetrace file and a corresponding background intensity timetrace file."
   ]
  },
  {
   "cell_type": "code",
   "execution_count": 14,
   "metadata": {},
   "outputs": [],
   "source": [
    "movie_1_PHdf = readMultiMeasureData('/imageJ_results/movie_1_PH.csv') #single-cell phase contrast timetraces\n",
    "movie_1_PHdf_bg = readMultiMeasureData('/imageJ_results/movie_1_PH_bg.csv') #background data\n",
    "movie_1_PHdf = subtractBackground(movie_1_PHdf,movie_1_PHdf_bg) #subtract background\n",
    "movie_1_germtime = getgermtime(movie_1_PHdf,germthresh=0) #calculate germination time for each spore\n",
    "movie_1_germdf = pd.DataFrame(movie_1_germtime) #convert into Pandas dataframe\n",
    "pd.DataFrame.to_csv(movie_1_germdf,dir+'/germination_time/movie_1_germtime.csv') #save as csv\n",
    "\n",
    "movie_2_PHdf = readMultiMeasureData('/imageJ_results/movie_2_PH.csv')\n",
    "movie_2_PHdf_bg = readMultiMeasureData('/imageJ_results/movie_2_PH_bg.csv')\n",
    "movie_2_PHdf = subtractBackground(movie_2_PHdf,movie_2_PHdf_bg)\n",
    "movie_2_germtime = getgermtime(movie_2_PHdf,germthresh=0) \n",
    "movie_2_germdf = pd.DataFrame(movie_2_germtime) \n",
    "pd.DataFrame.to_csv(movie_2_germdf,dir+'/germination_time/movie_2_germtime.csv') \n",
    "\n",
    "movie_PHdf = pd.concat([movie_1_PHdf,movie_2_PHdf],axis=1) #create a dataframe with all the data"
   ]
  },
  {
   "cell_type": "markdown",
   "metadata": {},
   "source": [
    "Generally it is a good idea to check the phase contrast timetraces to see if the detection threshold (germthresh, default 0) works well. "
   ]
  },
  {
   "cell_type": "code",
   "execution_count": null,
   "metadata": {},
   "outputs": [],
   "source": [
    "plotTraces(movie_1_PHdf) #plot the first movie's timetraces\n",
    "plt.axhline(y=0,color='k',ls='--') #plot a horizontal line at zero"
   ]
  },
  {
   "cell_type": "markdown",
   "metadata": {},
   "source": [
    "# Read in saved germination times\n",
    "- Read in saved germtimes as Pandas DataFrames.\n",
    "- This saves time compared to calculating all of the germtimes each time you open the notebook, because reading in CSVs is much faster than calculating"
   ]
  },
  {
   "cell_type": "code",
   "execution_count": null,
   "metadata": {},
   "outputs": [],
   "source": [
    "movie_1_germtime = pd.read_csv(dir+'/droptime/movie_1_germtime.csv').iloc[:,1]\n",
    "movie_2_germtime = pd.read_csv(dir+'/droptime/movie_2_germtime.csv').iloc[:,1]"
   ]
  },
  {
   "cell_type": "markdown",
   "metadata": {},
   "source": [
    "# Plot CDFs\n",
    "Cumulative distribution functions (CDFs) are useful to visualize fractions vs time. Here we are comparing the germination time response across different strains, with the average and standard deviation from the different positions visualized accordingly."
   ]
  },
  {
   "cell_type": "code",
   "execution_count": null,
   "metadata": {},
   "outputs": [],
   "source": [
    "plotAvgStdCDF([movie_1_germtime,movie_2_germtime],color='blue')\n",
    "labels= np.arange(0,28)\n",
    "plt.xticks(np.arange(0,334,12),labels,size=10);\n",
    "plt.xlabel('Time (hours)',size=15)\n",
    "plt.ylabel('Dormant fraction',size=15)\n",
    "plt.xlim(0,270);"
   ]
  },
  {
   "cell_type": "code",
   "execution_count": null,
   "metadata": {},
   "outputs": [],
   "source": []
  }
 ],
 "metadata": {
  "interpreter": {
   "hash": "3e858afdc3d532e50d94479f3e594ec18ef55af20484d40b66be6c6a7ac33680"
  },
  "kernelspec": {
   "display_name": "Python 3.8.8 ('base')",
   "language": "python",
   "name": "python3"
  },
  "language_info": {
   "codemirror_mode": {
    "name": "ipython",
    "version": 3
   },
   "file_extension": ".py",
   "mimetype": "text/x-python",
   "name": "python",
   "nbconvert_exporter": "python",
   "pygments_lexer": "ipython3",
   "version": "3.8.8"
  },
  "orig_nbformat": 4
 },
 "nbformat": 4,
 "nbformat_minor": 2
}
